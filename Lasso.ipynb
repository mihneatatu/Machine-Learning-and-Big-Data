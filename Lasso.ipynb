{
 "cells": [
  {
   "cell_type": "code",
   "execution_count": 196,
   "id": "1022e4d8",
   "metadata": {},
   "outputs": [],
   "source": [
    "import pandas as pd"
   ]
  },
  {
   "cell_type": "markdown",
   "id": "a98f5070",
   "metadata": {},
   "source": [
    "# 1.) Clean the Apple Data to get a quarterly series of EPS."
   ]
  },
  {
   "cell_type": "code",
   "execution_count": 197,
   "id": "c7f8e883",
   "metadata": {},
   "outputs": [],
   "source": [
    "df=pd.read_csv(\"/Users/sandinatatu/Downloads/Archive/AAPL_quarterly_financials.csv\")"
   ]
  },
  {
   "cell_type": "code",
   "execution_count": 198,
   "id": "1b31aeec",
   "metadata": {},
   "outputs": [],
   "source": [
    "df.index = df.name"
   ]
  },
  {
   "cell_type": "code",
   "execution_count": 199,
   "id": "1ca01e64",
   "metadata": {},
   "outputs": [],
   "source": [
    "df = pd.DataFrame(df.loc[\"BasicEPS\",:]).iloc[2:,:]"
   ]
  },
  {
   "cell_type": "code",
   "execution_count": 200,
   "id": "dde0ca86",
   "metadata": {},
   "outputs": [],
   "source": [
    "df.index = pd.to_datetime(df.index)"
   ]
  },
  {
   "cell_type": "code",
   "execution_count": 201,
   "id": "08b13d2e",
   "metadata": {},
   "outputs": [],
   "source": [
    "df = df.sort_index().fillna(0.)"
   ]
  },
  {
   "cell_type": "code",
   "execution_count": 202,
   "id": "6f95beaf",
   "metadata": {},
   "outputs": [],
   "source": [
    "y = df.tail(79)"
   ]
  },
  {
   "cell_type": "markdown",
   "id": "5519fcf8",
   "metadata": {},
   "source": [
    "# 2.) Come up with 6 search terms you think could nowcast earnings. (Different than the ones I used) Add in 3 terms that that you think will not Nowcast earnings. Pull in the gtrends data. Clean it to have a quarterly average."
   ]
  },
  {
   "cell_type": "code",
   "execution_count": 203,
   "id": "114c0193",
   "metadata": {},
   "outputs": [],
   "source": [
    "from pytrends.request import TrendReq"
   ]
  },
  {
   "cell_type": "code",
   "execution_count": 204,
   "id": "0ad38601",
   "metadata": {},
   "outputs": [],
   "source": [
    "# Create pytrends object\n",
    "pytrends = TrendReq(hl='en-US', tz=360)\n",
    "\n",
    "# Set up the keywords and the timeframe\n",
    "keywords = [\"Tim Cook\", \"Bill Gates\", \"Microsoft\", \"Semiconductors\",\"Taxes\",\"Cupertino\", \"Weather\", \"Dictionary\", \"Pacific Standard Time\"]  # Add your keywords here\n",
    "start_date = '2003-09-30'\n",
    "end_date = '2023-09-30'\n",
    "\n",
    "# Create an empty DataFrame to store the results\n",
    "df = pd.DataFrame()\n",
    "\n",
    "# Iterate through keywords and fetch data\n",
    "for keyword in keywords:\n",
    "    pytrends.build_payload([keyword], cat=0, timeframe=f'{start_date} {end_date}', geo='', gprop='')\n",
    "    interest_over_time_df = pytrends.interest_over_time()\n",
    "    df[keyword] = interest_over_time_df[keyword]"
   ]
  },
  {
   "cell_type": "code",
   "execution_count": 205,
   "id": "810e58c8",
   "metadata": {},
   "outputs": [],
   "source": [
    "df = df.resample(\"Q\").mean()"
   ]
  },
  {
   "cell_type": "markdown",
   "id": "73c7abb8",
   "metadata": {},
   "source": [
    "# 3.) Normalize all the X data"
   ]
  },
  {
   "cell_type": "code",
   "execution_count": 206,
   "id": "95a7bb4d",
   "metadata": {},
   "outputs": [],
   "source": [
    "from sklearn.preprocessing import StandardScaler"
   ]
  },
  {
   "cell_type": "code",
   "execution_count": 207,
   "id": "bdefaa7d",
   "metadata": {},
   "outputs": [],
   "source": [
    "scaler=StandardScaler()"
   ]
  },
  {
   "cell_type": "code",
   "execution_count": 208,
   "id": "397b45e8",
   "metadata": {},
   "outputs": [],
   "source": [
    "X_scaled_array =scaler.fit_transform(df)"
   ]
  },
  {
   "cell_type": "code",
   "execution_count": 209,
   "id": "99b9159a",
   "metadata": {},
   "outputs": [],
   "source": [
    "X_scaled = pd.DataFrame(X_scaled_array, columns=df.columns)"
   ]
  },
  {
   "cell_type": "markdown",
   "id": "da43d5ef",
   "metadata": {},
   "source": [
    "# 4.) Run a Lasso with lambda of .5. Plot a bar chart."
   ]
  },
  {
   "cell_type": "code",
   "execution_count": 210,
   "id": "b7ff06aa",
   "metadata": {},
   "outputs": [],
   "source": [
    "from sklearn.linear_model import Lasso"
   ]
  },
  {
   "cell_type": "code",
   "execution_count": 211,
   "id": "f7311bec",
   "metadata": {},
   "outputs": [],
   "source": [
    "lasso = Lasso(alpha=.1)"
   ]
  },
  {
   "cell_type": "code",
   "execution_count": 212,
   "id": "dd451473",
   "metadata": {},
   "outputs": [
    {
     "data": {
      "text/html": [
       "<div>\n",
       "<style scoped>\n",
       "    .dataframe tbody tr th:only-of-type {\n",
       "        vertical-align: middle;\n",
       "    }\n",
       "\n",
       "    .dataframe tbody tr th {\n",
       "        vertical-align: top;\n",
       "    }\n",
       "\n",
       "    .dataframe thead th {\n",
       "        text-align: right;\n",
       "    }\n",
       "</style>\n",
       "<table border=\"1\" class=\"dataframe\">\n",
       "  <thead>\n",
       "    <tr style=\"text-align: right;\">\n",
       "      <th></th>\n",
       "      <th>Tim Cook</th>\n",
       "      <th>Bill Gates</th>\n",
       "      <th>Microsoft</th>\n",
       "      <th>Semiconductors</th>\n",
       "      <th>Taxes</th>\n",
       "      <th>Cupertino</th>\n",
       "      <th>Weather</th>\n",
       "      <th>Dictionary</th>\n",
       "      <th>Pacific Standard Time</th>\n",
       "    </tr>\n",
       "  </thead>\n",
       "  <tbody>\n",
       "    <tr>\n",
       "      <th>0</th>\n",
       "      <td>-1.078090</td>\n",
       "      <td>1.549500</td>\n",
       "      <td>2.425043</td>\n",
       "      <td>3.858380</td>\n",
       "      <td>1.603503</td>\n",
       "      <td>2.045967</td>\n",
       "      <td>-1.275801</td>\n",
       "      <td>2.099280</td>\n",
       "      <td>1.775947</td>\n",
       "    </tr>\n",
       "    <tr>\n",
       "      <th>1</th>\n",
       "      <td>-1.078090</td>\n",
       "      <td>0.778815</td>\n",
       "      <td>2.526434</td>\n",
       "      <td>3.479486</td>\n",
       "      <td>0.303359</td>\n",
       "      <td>2.018465</td>\n",
       "      <td>-1.258463</td>\n",
       "      <td>1.832415</td>\n",
       "      <td>0.834337</td>\n",
       "    </tr>\n",
       "    <tr>\n",
       "      <th>2</th>\n",
       "      <td>-0.930929</td>\n",
       "      <td>0.307840</td>\n",
       "      <td>2.070174</td>\n",
       "      <td>2.820540</td>\n",
       "      <td>-0.783329</td>\n",
       "      <td>2.018465</td>\n",
       "      <td>-1.050402</td>\n",
       "      <td>1.792386</td>\n",
       "      <td>-0.283824</td>\n",
       "    </tr>\n",
       "    <tr>\n",
       "      <th>3</th>\n",
       "      <td>-0.967719</td>\n",
       "      <td>0.564735</td>\n",
       "      <td>2.002580</td>\n",
       "      <td>2.705224</td>\n",
       "      <td>-0.589277</td>\n",
       "      <td>1.715939</td>\n",
       "      <td>-1.397170</td>\n",
       "      <td>2.192683</td>\n",
       "      <td>2.541004</td>\n",
       "    </tr>\n",
       "    <tr>\n",
       "      <th>4</th>\n",
       "      <td>-0.967719</td>\n",
       "      <td>1.378236</td>\n",
       "      <td>2.053276</td>\n",
       "      <td>2.359278</td>\n",
       "      <td>1.564692</td>\n",
       "      <td>1.468417</td>\n",
       "      <td>-1.102417</td>\n",
       "      <td>1.952504</td>\n",
       "      <td>2.187901</td>\n",
       "    </tr>\n",
       "    <tr>\n",
       "      <th>...</th>\n",
       "      <td>...</td>\n",
       "      <td>...</td>\n",
       "      <td>...</td>\n",
       "      <td>...</td>\n",
       "      <td>...</td>\n",
       "      <td>...</td>\n",
       "      <td>...</td>\n",
       "      <td>...</td>\n",
       "      <td>...</td>\n",
       "    </tr>\n",
       "    <tr>\n",
       "      <th>74</th>\n",
       "      <td>0.283144</td>\n",
       "      <td>-0.805371</td>\n",
       "      <td>-0.903963</td>\n",
       "      <td>-0.474191</td>\n",
       "      <td>-0.511657</td>\n",
       "      <td>-1.144307</td>\n",
       "      <td>2.001162</td>\n",
       "      <td>-0.996351</td>\n",
       "      <td>-1.313709</td>\n",
       "    </tr>\n",
       "    <tr>\n",
       "      <th>75</th>\n",
       "      <td>0.798205</td>\n",
       "      <td>-1.105082</td>\n",
       "      <td>-0.903963</td>\n",
       "      <td>-0.457717</td>\n",
       "      <td>-0.337011</td>\n",
       "      <td>-1.446833</td>\n",
       "      <td>1.030210</td>\n",
       "      <td>-0.983008</td>\n",
       "      <td>-0.990031</td>\n",
       "    </tr>\n",
       "    <tr>\n",
       "      <th>76</th>\n",
       "      <td>0.283144</td>\n",
       "      <td>-0.805371</td>\n",
       "      <td>-0.751877</td>\n",
       "      <td>-0.375349</td>\n",
       "      <td>2.224467</td>\n",
       "      <td>-1.226814</td>\n",
       "      <td>1.515686</td>\n",
       "      <td>-0.983008</td>\n",
       "      <td>-0.754628</td>\n",
       "    </tr>\n",
       "    <tr>\n",
       "      <th>77</th>\n",
       "      <td>1.092526</td>\n",
       "      <td>-1.019450</td>\n",
       "      <td>-0.802572</td>\n",
       "      <td>-0.523612</td>\n",
       "      <td>0.749677</td>\n",
       "      <td>-1.391829</td>\n",
       "      <td>1.914470</td>\n",
       "      <td>-1.036381</td>\n",
       "      <td>-1.607962</td>\n",
       "    </tr>\n",
       "    <tr>\n",
       "      <th>78</th>\n",
       "      <td>0.319934</td>\n",
       "      <td>-1.105082</td>\n",
       "      <td>-0.853268</td>\n",
       "      <td>-0.507138</td>\n",
       "      <td>-0.492252</td>\n",
       "      <td>-1.336824</td>\n",
       "      <td>2.070516</td>\n",
       "      <td>-1.063068</td>\n",
       "      <td>-1.696238</td>\n",
       "    </tr>\n",
       "  </tbody>\n",
       "</table>\n",
       "<p>79 rows × 9 columns</p>\n",
       "</div>"
      ],
      "text/plain": [
       "    Tim Cook  Bill Gates  Microsoft  Semiconductors     Taxes  Cupertino  \\\n",
       "0  -1.078090    1.549500   2.425043        3.858380  1.603503   2.045967   \n",
       "1  -1.078090    0.778815   2.526434        3.479486  0.303359   2.018465   \n",
       "2  -0.930929    0.307840   2.070174        2.820540 -0.783329   2.018465   \n",
       "3  -0.967719    0.564735   2.002580        2.705224 -0.589277   1.715939   \n",
       "4  -0.967719    1.378236   2.053276        2.359278  1.564692   1.468417   \n",
       "..       ...         ...        ...             ...       ...        ...   \n",
       "74  0.283144   -0.805371  -0.903963       -0.474191 -0.511657  -1.144307   \n",
       "75  0.798205   -1.105082  -0.903963       -0.457717 -0.337011  -1.446833   \n",
       "76  0.283144   -0.805371  -0.751877       -0.375349  2.224467  -1.226814   \n",
       "77  1.092526   -1.019450  -0.802572       -0.523612  0.749677  -1.391829   \n",
       "78  0.319934   -1.105082  -0.853268       -0.507138 -0.492252  -1.336824   \n",
       "\n",
       "     Weather  Dictionary  Pacific Standard Time  \n",
       "0  -1.275801    2.099280               1.775947  \n",
       "1  -1.258463    1.832415               0.834337  \n",
       "2  -1.050402    1.792386              -0.283824  \n",
       "3  -1.397170    2.192683               2.541004  \n",
       "4  -1.102417    1.952504               2.187901  \n",
       "..       ...         ...                    ...  \n",
       "74  2.001162   -0.996351              -1.313709  \n",
       "75  1.030210   -0.983008              -0.990031  \n",
       "76  1.515686   -0.983008              -0.754628  \n",
       "77  1.914470   -1.036381              -1.607962  \n",
       "78  2.070516   -1.063068              -1.696238  \n",
       "\n",
       "[79 rows x 9 columns]"
      ]
     },
     "execution_count": 212,
     "metadata": {},
     "output_type": "execute_result"
    }
   ],
   "source": [
    "X_scaled"
   ]
  },
  {
   "cell_type": "code",
   "execution_count": 213,
   "id": "3104e3ae",
   "metadata": {},
   "outputs": [
    {
     "data": {
      "text/html": [
       "<style>#sk-container-id-6 {color: black;}#sk-container-id-6 pre{padding: 0;}#sk-container-id-6 div.sk-toggleable {background-color: white;}#sk-container-id-6 label.sk-toggleable__label {cursor: pointer;display: block;width: 100%;margin-bottom: 0;padding: 0.3em;box-sizing: border-box;text-align: center;}#sk-container-id-6 label.sk-toggleable__label-arrow:before {content: \"▸\";float: left;margin-right: 0.25em;color: #696969;}#sk-container-id-6 label.sk-toggleable__label-arrow:hover:before {color: black;}#sk-container-id-6 div.sk-estimator:hover label.sk-toggleable__label-arrow:before {color: black;}#sk-container-id-6 div.sk-toggleable__content {max-height: 0;max-width: 0;overflow: hidden;text-align: left;background-color: #f0f8ff;}#sk-container-id-6 div.sk-toggleable__content pre {margin: 0.2em;color: black;border-radius: 0.25em;background-color: #f0f8ff;}#sk-container-id-6 input.sk-toggleable__control:checked~div.sk-toggleable__content {max-height: 200px;max-width: 100%;overflow: auto;}#sk-container-id-6 input.sk-toggleable__control:checked~label.sk-toggleable__label-arrow:before {content: \"▾\";}#sk-container-id-6 div.sk-estimator input.sk-toggleable__control:checked~label.sk-toggleable__label {background-color: #d4ebff;}#sk-container-id-6 div.sk-label input.sk-toggleable__control:checked~label.sk-toggleable__label {background-color: #d4ebff;}#sk-container-id-6 input.sk-hidden--visually {border: 0;clip: rect(1px 1px 1px 1px);clip: rect(1px, 1px, 1px, 1px);height: 1px;margin: -1px;overflow: hidden;padding: 0;position: absolute;width: 1px;}#sk-container-id-6 div.sk-estimator {font-family: monospace;background-color: #f0f8ff;border: 1px dotted black;border-radius: 0.25em;box-sizing: border-box;margin-bottom: 0.5em;}#sk-container-id-6 div.sk-estimator:hover {background-color: #d4ebff;}#sk-container-id-6 div.sk-parallel-item::after {content: \"\";width: 100%;border-bottom: 1px solid gray;flex-grow: 1;}#sk-container-id-6 div.sk-label:hover label.sk-toggleable__label {background-color: #d4ebff;}#sk-container-id-6 div.sk-serial::before {content: \"\";position: absolute;border-left: 1px solid gray;box-sizing: border-box;top: 0;bottom: 0;left: 50%;z-index: 0;}#sk-container-id-6 div.sk-serial {display: flex;flex-direction: column;align-items: center;background-color: white;padding-right: 0.2em;padding-left: 0.2em;position: relative;}#sk-container-id-6 div.sk-item {position: relative;z-index: 1;}#sk-container-id-6 div.sk-parallel {display: flex;align-items: stretch;justify-content: center;background-color: white;position: relative;}#sk-container-id-6 div.sk-item::before, #sk-container-id-6 div.sk-parallel-item::before {content: \"\";position: absolute;border-left: 1px solid gray;box-sizing: border-box;top: 0;bottom: 0;left: 50%;z-index: -1;}#sk-container-id-6 div.sk-parallel-item {display: flex;flex-direction: column;z-index: 1;position: relative;background-color: white;}#sk-container-id-6 div.sk-parallel-item:first-child::after {align-self: flex-end;width: 50%;}#sk-container-id-6 div.sk-parallel-item:last-child::after {align-self: flex-start;width: 50%;}#sk-container-id-6 div.sk-parallel-item:only-child::after {width: 0;}#sk-container-id-6 div.sk-dashed-wrapped {border: 1px dashed gray;margin: 0 0.4em 0.5em 0.4em;box-sizing: border-box;padding-bottom: 0.4em;background-color: white;}#sk-container-id-6 div.sk-label label {font-family: monospace;font-weight: bold;display: inline-block;line-height: 1.2em;}#sk-container-id-6 div.sk-label-container {text-align: center;}#sk-container-id-6 div.sk-container {/* jupyter's `normalize.less` sets `[hidden] { display: none; }` but bootstrap.min.css set `[hidden] { display: none !important; }` so we also need the `!important` here to be able to override the default hidden behavior on the sphinx rendered scikit-learn.org. See: https://github.com/scikit-learn/scikit-learn/issues/21755 */display: inline-block !important;position: relative;}#sk-container-id-6 div.sk-text-repr-fallback {display: none;}</style><div id=\"sk-container-id-6\" class=\"sk-top-container\"><div class=\"sk-text-repr-fallback\"><pre>Lasso(alpha=0.1)</pre><b>In a Jupyter environment, please rerun this cell to show the HTML representation or trust the notebook. <br />On GitHub, the HTML representation is unable to render, please try loading this page with nbviewer.org.</b></div><div class=\"sk-container\" hidden><div class=\"sk-item\"><div class=\"sk-estimator sk-toggleable\"><input class=\"sk-toggleable__control sk-hidden--visually\" id=\"sk-estimator-id-6\" type=\"checkbox\" checked><label for=\"sk-estimator-id-6\" class=\"sk-toggleable__label sk-toggleable__label-arrow\">Lasso</label><div class=\"sk-toggleable__content\"><pre>Lasso(alpha=0.1)</pre></div></div></div></div></div>"
      ],
      "text/plain": [
       "Lasso(alpha=0.1)"
      ]
     },
     "execution_count": 213,
     "metadata": {},
     "output_type": "execute_result"
    }
   ],
   "source": [
    "lasso.fit(X_scaled,y)"
   ]
  },
  {
   "cell_type": "code",
   "execution_count": 214,
   "id": "09ba5fe4",
   "metadata": {},
   "outputs": [],
   "source": [
    "coefficients=lasso.coef_"
   ]
  },
  {
   "cell_type": "code",
   "execution_count": 215,
   "id": "37f8c758",
   "metadata": {},
   "outputs": [
    {
     "data": {
      "image/png": "[encoded data removed]",
      "text/plain": [
       "<Figure size 1200x500 with 1 Axes>"
      ]
     },
     "metadata": {},
     "output_type": "display_data"
    }
   ],
   "source": [
    "import matplotlib.pyplot as plt\n",
    "\n",
    "plt.figure(figsize=(12, 5))\n",
    "plt.bar(range(len(coefficients)), coefficients)\n",
    "plt.xticks(range(len(coefficients)), X_scaled.columns, rotation='vertical')  # Add column names as x-tick labels\n",
    "plt.axhline(0, color=\"red\")\n",
    "plt.show()\n"
   ]
  },
  {
   "cell_type": "markdown",
   "id": "e130a2be",
   "metadata": {},
   "source": [
    "# 5.) Do these coefficient magnitudes make sense?"
   ]
  },
  {
   "cell_type": "markdown",
   "id": "5586857b",
   "metadata": {},
   "source": [
    "Some of the coefficient do indeed make sense. Tim Cook searcher are pozitively correlated with Apple's EPS, signaling that more interest in the CEO may lead to more interest in Apple's producst and thus to higher EPS. Weather is also very highly correlated with Apple's EPS, signaling that nicer weather may lead in more interest for Apple products."
   ]
  },
  {
   "cell_type": "code",
   "execution_count": null,
   "id": "a45de1ac",
   "metadata": {},
   "outputs": [],
   "source": []
  }
 ],
 "metadata": {
  "kernelspec": {
   "display_name": "Python 3 (ipykernel)",
   "language": "python",
   "name": "python3"
  },
  "language_info": {
   "codemirror_mode": {
    "name": "ipython",
    "version": 3
   },
   "file_extension": ".py",
   "mimetype": "text/x-python",
   "name": "python",
   "nbconvert_exporter": "python",
   "pygments_lexer": "ipython3",
   "version": "3.11.4"
  }
 },
 "nbformat": 4,
 "nbformat_minor": 5
}
